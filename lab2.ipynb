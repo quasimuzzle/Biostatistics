{
 "cells": [
  {
   "cell_type": "code",
   "execution_count": 2,
   "metadata": {},
   "outputs": [],
   "source": [
    "import numpy as np\n",
    "\n",
    "def rd(file_path):\n",
    "    data = []\n",
    "    with open(file_path, 'r') as file:\n",
    "        for line in file:\n",
    "            try:\n",
    "                data.append(float(line.strip()))\n",
    "            except ValueError:\n",
    "                print(f\"Ошибка: невозможно преобразовать строку '{line.strip()}' в число.\")\n",
    "                return None\n",
    "    return np.array(data)"
   ]
  },
  {
   "cell_type": "markdown",
   "metadata": {},
   "source": [
    "Среднее значение и стандартных отклонений выборок"
   ]
  },
  {
   "cell_type": "code",
   "execution_count": 3,
   "metadata": {},
   "outputs": [],
   "source": [
    "def calculate_statistics(sample1, sample2):\n",
    "    mean1 = np.mean(sample1) #среднее значение\n",
    "    mean2 = np.mean(sample2) #среднее значение\n",
    "    std1 = np.std(sample1, ddof=1) #ст.отклонение\n",
    "    std2 = np.std(sample2, ddof=1) #ст.отклонение\n",
    "    return mean1, mean2, std1, std2"
   ]
  },
  {
   "cell_type": "markdown",
   "metadata": {},
   "source": [
    "t"
   ]
  },
  {
   "cell_type": "code",
   "execution_count": 4,
   "metadata": {},
   "outputs": [],
   "source": [
    "def calculate_t_statistic(sample1, sample2):\n",
    "    n1 = len(sample1) #размер выборки data_file1\n",
    "    n2 = len(sample2) #размер выборки data_file2\n",
    "    degrees_of_freedom = n1 + n2 - 2 #кол-во независимых элем.данных\n",
    "    pooled_std = np.sqrt(((n1 - 1) * np.var(sample1, ddof=1) + (n2 - 1) * np.var(sample2, ddof=1)) / degrees_of_freedom) \n",
    "    #корень(((первая выборка - 1)* несмещ дисперсии первой выборки + (вторая выборка - 1)* несмещ дисперсии второй выборки)/ degrees_of_freedom)\n",
    "    t_statistic = (np.mean(sample1) - np.mean(sample2)) / (pooled_std * np.sqrt(1/n1 + 1/n2))\n",
    "    #(среднее значение вб1 - среднее значение вб2) / (pooled_std *(корень(1/c.з.вб1 + 1/с.з.вб2))\n",
    "    return t_statistic, degrees_of_freedom"
   ]
  },
  {
   "cell_type": "markdown",
   "metadata": {},
   "source": [
    "p-значения"
   ]
  },
  {
   "cell_type": "code",
   "execution_count": 5,
   "metadata": {},
   "outputs": [],
   "source": [
    "def calculate_p_value(t_statistic, degrees_of_freedom):\n",
    "    t_distribution = np.random.standard_t(degrees_of_freedom, size=1000000)\n",
    "    p_value = (np.sum(np.abs(t_distribution) > np.abs(t_statistic)) / 1000000) * 2\n",
    "    return p_value"
   ]
  },
  {
   "cell_type": "markdown",
   "metadata": {},
   "source": [
    "Оценка статистической значимости результатов"
   ]
  },
  {
   "cell_type": "code",
   "execution_count": 6,
   "metadata": {},
   "outputs": [],
   "source": [
    "def evaluate_results(p_value, alpha=0.05):\n",
    "    if p_value < alpha:\n",
    "        return \"Отвергаем нулевую гипотезу: средние значения различаются.\"\n",
    "    else:\n",
    "        return \"Нет достаточных доказательств для отвержения нулевой гипотезы.\""
   ]
  },
  {
   "cell_type": "markdown",
   "metadata": {},
   "source": [
    "Функция для критерия Фишера"
   ]
  },
  {
   "cell_type": "code",
   "execution_count": 7,
   "metadata": {},
   "outputs": [],
   "source": [
    "def fisher_test(data1, data2, data3, data4):\n",
    "    var1 = np.var(data1, ddof=1)\n",
    "    var2 = np.var(data2, ddof=1)\n",
    "    var3 = np.var(data3, ddof=1)\n",
    "    var4 = np.var(data4, ddof=1)\n",
    "    \n",
    "    f_statistic = max([var1, var2, var3, var4]) / min([var1, var2, var3, var4])\n",
    "    \n",
    "    dfn = 3\n",
    "    dfd = len(data1) + len(data2) + len(data3) + len(data4) - 4\n",
    "    critical_value = 2.6\n",
    "    \n",
    "    if f_statistic > critical_value:\n",
    "        return f_statistic, \"Отвергаем нулевую гипотезу: дисперсии не равны.\"\n",
    "    else:\n",
    "        return f_statistic, \"Не удалось отвергнуть нулевую гипотезу: дисперсии равны.\"\n"
   ]
  },
  {
   "cell_type": "code",
   "execution_count": 8,
   "metadata": {},
   "outputs": [],
   "source": [
    "data_file1 = \"var6.txt\"\n",
    "data_file2 = \"var14.txt\"\n",
    "data_file3 = \"var18.txt\"\n",
    "data_file4 = \"var20.txt\"\n",
    "\n",
    "data1 = rd(data_file1)\n",
    "data2 = rd(data_file2)\n",
    "\n",
    "data3 = rd(data_file1)\n",
    "data4 = rd(data_file2)\n",
    "data5 = rd(data_file3)\n",
    "data6 = rd(data_file4)"
   ]
  },
  {
   "cell_type": "markdown",
   "metadata": {},
   "source": [
    "Вычисление статистик и t-статистики"
   ]
  },
  {
   "cell_type": "code",
   "execution_count": 9,
   "metadata": {},
   "outputs": [],
   "source": [
    "mean1, mean2, std1, std2 = calculate_statistics(data1, data2)\n",
    "t_statistic, degrees_of_freedom = calculate_t_statistic(data1, data2)"
   ]
  },
  {
   "cell_type": "markdown",
   "metadata": {},
   "source": [
    "p"
   ]
  },
  {
   "cell_type": "code",
   "execution_count": 10,
   "metadata": {},
   "outputs": [],
   "source": [
    "p_value = calculate_p_value(t_statistic, degrees_of_freedom)"
   ]
  },
  {
   "cell_type": "markdown",
   "metadata": {},
   "source": [
    "результат для t-теста"
   ]
  },
  {
   "cell_type": "code",
   "execution_count": 11,
   "metadata": {},
   "outputs": [
    {
     "name": "stdout",
     "output_type": "stream",
     "text": [
      "Значение t-статистики: 0.027576754752649316\n",
      "p-значение: 1.95663\n",
      "Нет достаточных доказательств для отвержения нулевой гипотезы.\n"
     ]
    }
   ],
   "source": [
    "print(\"Значение t-статистики:\", t_statistic)\n",
    "print(\"p-значение:\", p_value)\n",
    "print(evaluate_results(p_value))"
   ]
  },
  {
   "cell_type": "markdown",
   "metadata": {},
   "source": [
    "Функция  для проверки гипотезы Фишера"
   ]
  },
  {
   "cell_type": "code",
   "execution_count": 12,
   "metadata": {},
   "outputs": [],
   "source": [
    "f_statistic, result = fisher_test(data3, data4, data5, data6)"
   ]
  },
  {
   "cell_type": "markdown",
   "metadata": {},
   "source": [
    "Результаты для критерия Фишера (F- статистика)\n"
   ]
  },
  {
   "cell_type": "code",
   "execution_count": 13,
   "metadata": {},
   "outputs": [
    {
     "name": "stdout",
     "output_type": "stream",
     "text": [
      "F-статистика: 1.4333983878940202\n",
      "Не удалось отвергнуть нулевую гипотезу: дисперсии равны.\n"
     ]
    }
   ],
   "source": [
    "print(\"F-статистика:\", f_statistic)\n",
    "print(result)"
   ]
  },
  {
   "cell_type": "code",
   "execution_count": null,
   "metadata": {},
   "outputs": [],
   "source": []
  }
 ],
 "metadata": {
  "kernelspec": {
   "display_name": "Python 3",
   "language": "python",
   "name": "python3"
  },
  "language_info": {
   "codemirror_mode": {
    "name": "ipython",
    "version": 3
   },
   "file_extension": ".py",
   "mimetype": "text/x-python",
   "name": "python",
   "nbconvert_exporter": "python",
   "pygments_lexer": "ipython3",
   "version": "3.10.12"
  }
 },
 "nbformat": 4,
 "nbformat_minor": 2
}
