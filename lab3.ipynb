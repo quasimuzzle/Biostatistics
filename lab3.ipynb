{
 "cells": [
  {
   "cell_type": "code",
   "execution_count": 1,
   "metadata": {},
   "outputs": [],
   "source": [
    "import numpy as np\n",
    "from scipy.stats import binom\n",
    "from scipy.stats import rankdata\n",
    "from scipy.stats import norm"
   ]
  },
  {
   "cell_type": "code",
   "execution_count": 2,
   "metadata": {},
   "outputs": [],
   "source": [
    "def wilcoxon(sample1, sample2):\n",
    "    combined = sample1 + sample2\n",
    "    combined_sorted = sorted(combined)\n",
    "    ranks = {}\n",
    "    for i, val in enumerate(combined_sorted):\n",
    "        if val not in ranks:\n",
    "            ranks[val] = [i + 1]\n",
    "        else:\n",
    "            ranks[val].append(i + 1)\n",
    "    rank_sum1 = sum(ranks[val][0] for val in sample1)\n",
    "    rank_sum2 = sum(ranks[val][0] for val in sample2)\n",
    "    U = min(rank_sum1, rank_sum2)\n",
    "    n1 = len(sample1)\n",
    "    n2 = len(sample2)\n",
    "    expected_U = n1 * (n1 + n2 + 1) / 2\n",
    "    z1 = (U - expected_U) / np.sqrt((n1 * n2 * (n1 + n2 + 1)) / 12)\n",
    "    z = 2 * (1 - norm.cdf(abs(z1)))\n",
    "    return U, z"
   ]
  },
  {
   "cell_type": "code",
   "execution_count": 3,
   "metadata": {},
   "outputs": [],
   "source": [
    "def criteria_signs(data1, data2, alpha=0.05):\n",
    "    min_len = min(len(data1), len(data2))\n",
    "    if min_len == 0:\n",
    "        raise ValueError(\"Обе выборки пусты.\")\n",
    "    data1 = data1[:min_len]\n",
    "    data2 = data2[:min_len]\n",
    "    differences = np.array(data1) - np.array(data2)\n",
    "    n_plus = np.sum(differences > 0)\n",
    "    n_minus = np.sum(differences < 0)\n",
    "    n = len(differences)\n",
    "    p_value = 2 * min(binom.cdf(min(n_plus, n_minus), n, 0.5), 1 - binom.cdf(max(n_plus, n_minus) - 1, n, 0.5))\n",
    "    return p_value"
   ]
  },
  {
   "cell_type": "code",
   "execution_count": 4,
   "metadata": {},
   "outputs": [],
   "source": [
    "def read_data(filename):\n",
    "    with open(filename, 'r') as file:\n",
    "        data = [float(line.strip()) for line in file.readlines()]\n",
    "    return data"
   ]
  },
  {
   "cell_type": "code",
   "execution_count": 5,
   "metadata": {},
   "outputs": [],
   "source": [
    "data1 = read_data('var6.txt')\n",
    "data2 = read_data('var20.txt')"
   ]
  },
  {
   "cell_type": "code",
   "execution_count": 6,
   "metadata": {},
   "outputs": [],
   "source": [
    "alpha = 0.05"
   ]
  },
  {
   "cell_type": "code",
   "execution_count": 7,
   "metadata": {},
   "outputs": [
    {
     "name": "stdout",
     "output_type": "stream",
     "text": [
      "Тест знаков:\n",
      "p-значение: 0.38331031799316406\n",
      "Различия не являются статистически значимыми p >= 0.05 \n"
     ]
    }
   ],
   "source": [
    "p_value = criteria_signs(data1, data2)\n",
    "print(\"Тест знаков:\")\n",
    "print(\"p-значение:\", p_value)\n",
    "if p_value < alpha:\n",
    "    print(\"Различия статистически значимы p <\", alpha, \"\")\n",
    "else:\n",
    "    print(\"Различия не являются статистически значимыми p >=\", alpha, \"\")"
   ]
  },
  {
   "cell_type": "code",
   "execution_count": 8,
   "metadata": {},
   "outputs": [
    {
     "name": "stdout",
     "output_type": "stream",
     "text": [
      "\n",
      "Тест Вилкоксона:\n",
      "p-значение: 0.15606926343164362\n",
      "Не удалось отвергнуть нулевую гипотезу: Различия не являются статистически значимыми p >= 0.05 \n"
     ]
    }
   ],
   "source": [
    "U, z = wilcoxon(data1, data2)\n",
    "print(\"\\nТест Вилкоксона:\")\n",
    "print(\"p-значение:\", z)\n",
    "if z < alpha:\n",
    "    print(\"Отвергаем нулевую гипотезу: различия статистически значимы p <\", alpha, \"\")\n",
    "else:\n",
    "    print(\"Не удалось отвергнуть нулевую гипотезу: Различия не являются статистически значимыми p >=\", alpha, \"\")\n"
   ]
  }
 ],
 "metadata": {
  "kernelspec": {
   "display_name": "Python 3",
   "language": "python",
   "name": "python3"
  },
  "language_info": {
   "codemirror_mode": {
    "name": "ipython",
    "version": 3
   },
   "file_extension": ".py",
   "mimetype": "text/x-python",
   "name": "python",
   "nbconvert_exporter": "python",
   "pygments_lexer": "ipython3",
   "version": "3.10.12"
  }
 },
 "nbformat": 4,
 "nbformat_minor": 2
}
